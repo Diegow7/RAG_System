{
 "cells": [
  {
   "cell_type": "markdown",
   "metadata": {},
   "source": [
    "# Proyecto Bimestral: Implementación de un Sistema RAG (Retrieval-Augmented Generation)\n",
    "## 1. Introducción\n",
    "Este proyecto consiste en diseñar e implementar un sistema RAG (Retrieval-Augmented Generation). Se busca combinar técnicas de Recuperación de Información (RI) con modelos de generación de texto, permitiendo que un modelo genere respuestas a partir de documentos relevantes recuperados desde  un corpus.\n",
    "\n",
    "## 2. Objetivo del Proyecto\n",
    "Desarrollar un sistema RAG que:\n",
    "1. Recupere documentos relevantes a partir de una consulta del usuario utilizando técnicas de RI.\n",
    "2. Genere respuestas basadas en los documentos recuperados utilizando un modelo de lenguaje avanzado.\n",
    "\n",
    "## 3. Fases del Proyecto\n"
   ]
  },
  {
   "cell_type": "markdown",
   "metadata": {},
   "source": [
    "#### Instalación de bibliotecas para Recuperación de Información\n",
    "\n",
    "Este bloque de código instala las bibliotecas necesarias para trabajar con tareas relacionadas con la Recuperación de Información, búsqueda vectorial y procesamiento de lenguaje natural. A continuación, se describe la función de cada comando:\n",
    "\n",
    "1. **`pip install chromadb`**  \n",
    "   Instala la biblioteca **ChromaDB**, una base de datos orientada a la búsqueda y gestión de embeddings. ChromaDB es utilizada para almacenar y consultar representaciones vectoriales de datos de manera eficiente.\n",
    "\n",
    "2. **`pip install --upgrade chromadb`**  \n",
    "   Actualiza **ChromaDB** a la versión más reciente para asegurarse de disponer de las últimas características y correcciones de errores.\n",
    "\n",
    "3. **`!pip install chroma-migrate`**  \n",
    "   Instala la herramienta **chroma-migrate**, que permite la migración de datos y la gestión de versiones en bases de datos construidas con ChromaDB.\n",
    "\n",
    "4. **`pip install sentence-transformers`**  \n",
    "   Instala **Sentence Transformers**, una biblioteca utilizada para generar embeddings de texto. Esta biblioteca es esencial para tareas de búsqueda semántica y comparación de textos, facilitando la conversión de oraciones a representaciones vectoriales.\n",
    "\n",
    "5. **`!pip install openai`**  \n",
    "   Instala la biblioteca **OpenAI**, que permite la interacción con la API de OpenAI para utilizar modelos de lenguaje como GPT en tareas de procesamiento de texto.\n",
    "\n",
    "### Observaciones:\n",
    "- El prefijo `!` se usa para ejecutar comandos de terminal directamente desde celdas de código en un entorno Jupyter Notebook.  \n",
    "- Se recomienda reiniciar el kernel después de instalar o actualizar las bibliotecas para evitar problemas de compatibilidad."
   ]
  },
  {
   "cell_type": "markdown",
   "metadata": {},
   "source": [
    "###  3.1. Importación de bibliotecas para Recuperación de Información"
   ]
  },
  {
   "cell_type": "code",
   "execution_count": null,
   "metadata": {},
   "outputs": [],
   "source": [
    "import pandas as pd  # Para manejar datos tabulares.\n",
    "from sentence_transformers import SentenceTransformer  # Para generar embeddings de texto.\n",
    "import chromadb  # Base de datos para almacenar y consultar embeddings.\n",
    "from chromadb.config import Settings  # Configuración de ChromaDB.\n",
    "from openai import OpenAI  # Para interactuar con modelos de OpenAI."
   ]
  },
  {
   "cell_type": "markdown",
   "metadata": {},
   "source": [
    "###  3.2. Generación de Embeddings a partir de texto\n",
    "\n",
    "Este bloque de código se enfoca en cargar un modelo preentrenado para generar embeddings de texto y en leer un archivo CSV que contiene datos a ser procesados. A continuación, se explican las acciones realizadas:"
   ]
  },
  {
   "cell_type": "code",
   "execution_count": 3,
   "metadata": {},
   "outputs": [],
   "source": [
    "# Cargar el modelo de embeddings\n",
    "model = SentenceTransformer('all-MiniLM-L6-v2')\n",
    "\n",
    "# Leer el archivo CSV\n",
    "file_path = \"./Data/Entrevista_LuisaGonzales_JuanCueva.csv\"\n",
    "data = pd.read_csv(file_path, sep=\",\")  # Asegúrate de usar el separador adecuado (tabulación en este caso)"
   ]
  },
  {
   "cell_type": "code",
   "execution_count": 4,
   "metadata": {},
   "outputs": [
    {
     "data": {
      "text/html": [
       "<div>\n",
       "<style scoped>\n",
       "    .dataframe tbody tr th:only-of-type {\n",
       "        vertical-align: middle;\n",
       "    }\n",
       "\n",
       "    .dataframe tbody tr th {\n",
       "        vertical-align: top;\n",
       "    }\n",
       "\n",
       "    .dataframe thead th {\n",
       "        text-align: right;\n",
       "    }\n",
       "</style>\n",
       "<table border=\"1\" class=\"dataframe\">\n",
       "  <thead>\n",
       "    <tr style=\"text-align: right;\">\n",
       "      <th></th>\n",
       "      <th>ID</th>\n",
       "      <th>Candidato</th>\n",
       "      <th>Temas</th>\n",
       "      <th>Descripción</th>\n",
       "      <th>Entrevista</th>\n",
       "    </tr>\n",
       "  </thead>\n",
       "  <tbody>\n",
       "    <tr>\n",
       "      <th>0</th>\n",
       "      <td>LG1</td>\n",
       "      <td>Luisa Gonzales</td>\n",
       "      <td>justicia social propuesta corrupción</td>\n",
       "      <td>entrevista relevante entender propuesta visión...</td>\n",
       "      <td>buen día lenin saludo escuchar momento revoluc...</td>\n",
       "    </tr>\n",
       "    <tr>\n",
       "      <th>1</th>\n",
       "      <td>LG2</td>\n",
       "      <td>Luisa Gonzales</td>\n",
       "      <td>crisis eléctrico relación internacional acción</td>\n",
       "      <td>entrevista ofrecer visión claro prioridad estr...</td>\n",
       "      <td>mucho gracia buen día ecuatoriano mirar moment...</td>\n",
       "    </tr>\n",
       "    <tr>\n",
       "      <th>2</th>\n",
       "      <td>LG3</td>\n",
       "      <td>Luisa Gonzales</td>\n",
       "      <td>venezuela rafael correo persecución</td>\n",
       "      <td>gonzález defender independencia capacidad lide...</td>\n",
       "      <td>querido fernando necesitar consultar ninguno a...</td>\n",
       "    </tr>\n",
       "    <tr>\n",
       "      <th>3</th>\n",
       "      <td>JC1</td>\n",
       "      <td>Juan Cueva</td>\n",
       "      <td>propiedad intelectual panorama ecuatoriano</td>\n",
       "      <td>abordo tema clave relacionado protección gesti...</td>\n",
       "      <td>propiedad intelectual derecho cualquiera autor...</td>\n",
       "    </tr>\n",
       "    <tr>\n",
       "      <th>4</th>\n",
       "      <td>JC2</td>\n",
       "      <td>Juan Cueva</td>\n",
       "      <td>proyecto político experiencia corrupción</td>\n",
       "      <td>entrevista juan iván cueva candidato presidenc...</td>\n",
       "      <td>mucho gracia lenin invitación honor aquí prese...</td>\n",
       "    </tr>\n",
       "    <tr>\n",
       "      <th>5</th>\n",
       "      <td>JC3</td>\n",
       "      <td>Juan Cueva</td>\n",
       "      <td>colaboración sector desafío protección caso éx...</td>\n",
       "      <td>entrevista juan iván cueva compartir experienc...</td>\n",
       "      <td>estrategia considerar efectivo ver protección ...</td>\n",
       "    </tr>\n",
       "  </tbody>\n",
       "</table>\n",
       "</div>"
      ],
      "text/plain": [
       "    ID       Candidato                                              Temas  \\\n",
       "0  LG1  Luisa Gonzales               justicia social propuesta corrupción   \n",
       "1  LG2  Luisa Gonzales     crisis eléctrico relación internacional acción   \n",
       "2  LG3  Luisa Gonzales                venezuela rafael correo persecución   \n",
       "3  JC1      Juan Cueva         propiedad intelectual panorama ecuatoriano   \n",
       "4  JC2      Juan Cueva           proyecto político experiencia corrupción   \n",
       "5  JC3      Juan Cueva  colaboración sector desafío protección caso éx...   \n",
       "\n",
       "                                         Descripción  \\\n",
       "0  entrevista relevante entender propuesta visión...   \n",
       "1  entrevista ofrecer visión claro prioridad estr...   \n",
       "2  gonzález defender independencia capacidad lide...   \n",
       "3  abordo tema clave relacionado protección gesti...   \n",
       "4  entrevista juan iván cueva candidato presidenc...   \n",
       "5  entrevista juan iván cueva compartir experienc...   \n",
       "\n",
       "                                          Entrevista  \n",
       "0  buen día lenin saludo escuchar momento revoluc...  \n",
       "1  mucho gracia buen día ecuatoriano mirar moment...  \n",
       "2  querido fernando necesitar consultar ninguno a...  \n",
       "3  propiedad intelectual derecho cualquiera autor...  \n",
       "4  mucho gracia lenin invitación honor aquí prese...  \n",
       "5  estrategia considerar efectivo ver protección ...  "
      ]
     },
     "execution_count": 4,
     "metadata": {},
     "output_type": "execute_result"
    }
   ],
   "source": [
    "data"
   ]
  },
  {
   "cell_type": "markdown",
   "metadata": {},
   "source": [
    "### 3.3. Extracción de columnas, generación de embeddings y preparación de datos\n",
    "\n",
    "Este bloque de código se encarga de extraer las columnas relevantes del DataFrame para su procesamiento, generar los embeddings a partir del texto de los documentos y organizar los metadatos asociados. Se detalla cada paso a continuación:\n"
   ]
  },
  {
   "cell_type": "code",
   "execution_count": 5,
   "metadata": {},
   "outputs": [],
   "source": [
    "# Extraer las columnas de interés\n",
    "documents = data['Entrevista'].tolist()  # El texto del documento\n",
    "ids = data['ID'].tolist()  # Identificadores únicos\n",
    "metadatas = data[['Candidato', 'Temas', 'Descripción']].to_dict(orient='records')  # Metadatos"
   ]
  },
  {
   "cell_type": "code",
   "execution_count": 6,
   "metadata": {},
   "outputs": [],
   "source": [
    "# Generar los embeddings para los documentos\n",
    "embeddings = model.encode(documents).tolist()"
   ]
  },
  {
   "cell_type": "markdown",
   "metadata": {},
   "source": [
    "### 3.4. Inicialización de la base de datos vectorial y almacenamiento de documentos\n",
    "\n",
    "Este bloque de código se enfoca en la creación de una base de datos vectorial persistente utilizando **ChromaDB**, la creación o carga de una colección dentro de esta base, y la adición de documentos junto con sus embeddings, metadatos e identificadores únicos. A continuación, se describe cada paso:\n"
   ]
  },
  {
   "cell_type": "code",
   "execution_count": 7,
   "metadata": {},
   "outputs": [],
   "source": [
    "# Inicializar la base de datos vectorial con persistencia\n",
    "client = chromadb.PersistentClient(\n",
    "    path=\"./chroma_db\"  # Carpeta donde se guardarán los datos\n",
    ")"
   ]
  },
  {
   "cell_type": "code",
   "execution_count": 8,
   "metadata": {},
   "outputs": [
    {
     "name": "stderr",
     "output_type": "stream",
     "text": [
      "Insert of existing embedding ID: LG1\n",
      "Insert of existing embedding ID: LG2\n",
      "Insert of existing embedding ID: LG3\n",
      "Insert of existing embedding ID: JC1\n",
      "Insert of existing embedding ID: JC2\n",
      "Insert of existing embedding ID: JC3\n",
      "Add of existing embedding ID: LG1\n",
      "Add of existing embedding ID: LG2\n",
      "Add of existing embedding ID: LG3\n",
      "Add of existing embedding ID: JC1\n",
      "Add of existing embedding ID: JC2\n",
      "Add of existing embedding ID: JC3\n"
     ]
    },
    {
     "name": "stdout",
     "output_type": "stream",
     "text": [
      "Documentos agregados exitosamente a la colección.\n"
     ]
    }
   ],
   "source": [
    "# Crear o cargar la colección\n",
    "collection = client.get_or_create_collection(\"prueba_collection\")\n",
    "\n",
    "# Agregar los documentos, metadatos, IDs y embeddings a la colección\n",
    "collection.add(\n",
    "    documents=documents,\n",
    "    metadatas=metadatas,\n",
    "    ids=ids,\n",
    "    embeddings=embeddings\n",
    ")\n",
    "\n",
    "print(\"Documentos agregados exitosamente a la colección.\")"
   ]
  },
  {
   "cell_type": "markdown",
   "metadata": {},
   "source": [
    "### 3.5. Realización de una consulta semántica en la base de datos vectorial\n",
    "\n",
    "Este bloque de código realiza una consulta semántica en la base de datos vectorial utilizando el embedding de una pregunta en lenguaje natural. Se busca encontrar los documentos más relevantes basados en la similitud semántica con la consulta. A continuación, se explica cada paso:"
   ]
  },
  {
   "cell_type": "code",
   "execution_count": 9,
   "metadata": {},
   "outputs": [
    {
     "name": "stdout",
     "output_type": "stream",
     "text": [
      "Resultados de la consulta:\n",
      "['buen día lenin saludo escuchar momento revolución ciudadano proyecto patria buscar justicia social vida armonía paz hoy querer revivir ecuador agonizar falta empleo salud educación objetivo devolver esperanza alegría día mejor proyecto ahora encabezado mujer luisa gonzález junto diego borja representar sierra ecuatoriano país cambiar proyecto hoy vivir desesperanza tristeza violencia sumir opción empleo inseguridad disparar ecuador seguro hoy país violento sudamérica según human rights plan enfocado construir paz justicia social enfoque estructurado seguridad plan protege contemplar equipar fuerza público mejorar inteligencia trabajar manera coordinado fuerza armadas policía nacional además plan impulsa trabajarer área específico niño joven mujer cabezo hogar adulto mayor prioridad unir patria dividido rafael correo seguir proceso corte internacional demostrar caso persecución político cuanto jorge glas si ley tratado internacional determinar deber recibir salvoconducto asilo méxico entregar cumplir normativa si gobierna 10 año hacer obra día posible cometar error importante trabajar junto gente recorrer territorio unir ecuador enfocar pasado sino futuro justicia social empleo seguridad mano duro corrupción si detectar caso gabinete tomar todo acción legal necesario ir tolerar red corrupción institución público poner orden país equipo capacitado invito sociedad civil industria partido político unir él proyecto levantar ecuador necesitar coordinación gobierno asamblea justicia garantizar sistema eficiente interferir justicia hoy gobierno incumplir normativa trabajar coordinación intervención ir fortalecer institucionalidad juez fiscal hacer trabajo manera imparcial creer ley comunicación garantizar respeto honra información veraz medio deber corregir si publicar información errado proteger honor persona enfoque fortalecer cooperación país incluir unidos unión europea latinoamérica deber unir él negociar bloque buscar alianza comercial seguridad relación internacional país enfocarer política comercio seguridad exclusión mucho gracias tú', 'mucho gracia buen día ecuatoriano mirar momento creer aquí tratar ganar perder sino pueblo ecuatoriano conocer propuesta candidato propuesta deber ser serio contrastabl real realizabl cambiar mentira verdad bloque debate confrontación ataque fundamento lugar enfocar él propuesta presentar parte plan proteger generar impulsar disponible red social totalmente acuerdo ecuador perder presentar oferta sustento poder prometer tren bala siquiera completar metro quito campaña anterior mentira ganar luego cumplir promesa bajar precio combustible impuesto último año solo crear empleo sino perder 250000 puesto trabajo ciudadanía deber reflexionar diferenciar promesa vacío propuesta realizabl gustar debatir directamente daniel novoa ubicar bloque distinto retar debate directo primero vuelta si cne permitir recibir amenaza campaña anterior momento detener persona armado querer atentar vida ahora continuar amenaza ministerio defensa tomar medida confío fuerza armado aunque creer deber ser depurar invito ciudadanía revisar plan generar planteo rehabilitar capacidad instalado mucho termoeléctrica operar máximo capacidad dar mantenimiento trabajarer empresa privado desarrollar nuevo proyecto eólico termoeléctrico fotovoltaico además completar proyecto cardenillo 600 mw fortalecer sistema necesitar comprar energía si seguir plan maestro electricidad barcaza energético significar gasto innecesario deber ser eliminar exjuez saquicela liberar rasquiña sembrar terror ecuador ahora mismo juez atacar rafael correa hombre inocente sentenciar injustamente interpol rechazar tres vez difusión rojo demostrar sustento condena importante ciudadanía conocer contradicción jamás deber reflexionar quién seguro sistema justicia actual existir derecho ir depurar juez fiscal corrupto favorecer delincuente fortalecer uafe requerir nuevo ley sino devolver él presupuesto contratar personal adecuado hacer seguimiento report garantizar justicia actuar siempre respetar voluntad pueblo hacer consulta yasuní gastar dinero consulta repetitiva requerir liderazgo acción pueblo hermano cuanto asumir presidencia seguro claudia sheinbaum asistir posesión restablecerer relación comercial si necesario conforme derecho internacional haré ir recomponer relación necesario generar empleo salud educación necesitar inversión estabilidad sacar 7 millón ecuatoriano pobreza esperar política migratorio humano crisis migratorio ecuatoriano alarmante gracias tú', 'querido fernando necesitar consultar ninguno asesor manejar comunicación mujer capaz inteligente ir ver desafío mostrar cuántos país mundo violar derechos humanos mantener relación comercial unidos ojalá poder dialogar país violar derechos humanos comerciar unidos solo mencionar venezuelo habl palabra aislado cumbre iberoamericano nación 2023 ecuador anfitrión ninguno gobierno asistir aislado igual relación roto méxico socio comercial clave ecuador cerrar 2024 crecimiento 22 pobreza extremo pobreza afectar casi mitad población jugar vida elección debate permitir exponer plan trabajo atacar rafael correo problema país llamar unidad dejar confrontación odio si daniel novoa aceptar invitar debate confrontar mentira verdad demostrar plan estructurado ecuador 16 candidato 15 mencionar correa propuesta claro rafael correa líder histórico revolución ciudadanar hombre inocente presidenta partido dirijo campaña gobierno ecuador gobernar justicia ecuatoriano apenas 13 aprobación violar derecho operar bajo vicio derecho ecuador vivir dictadura ecuador decrecir 22 pobreza violencia corte eléctrico falta inversión extranjero necesitar gobernar liderazgo generar empleo mejorar seguridad fortalecer economía glós uso avión presidencial cumbre iberoamericano panamá participar barack obamar ridículo parte persecución político ecuador si mal aquí dar cara disgusto hablar encantado volver conversar']\n"
     ]
    }
   ],
   "source": [
    "# Realizar una consulta\n",
    "query = \"¿Cómo enfrentará luisa gonzales la crisis eléctrica?\"  # Tu consulta en texto\n",
    "query_embedding = model.encode([query]).tolist()  # Generar el embedding de la consulta\n",
    "\n",
    "# Consultar los documentos más similares\n",
    "results = collection.query(\n",
    "    query_embeddings=query_embedding,\n",
    "    n_results=3  # Devuelve los 3 documentos más similares\n",
    ")\n",
    "\n",
    "# Imprimir los resultados\n",
    "print(\"Resultados de la consulta:\")\n",
    "for result in results['documents']:\n",
    "    print(result)"
   ]
  },
  {
   "cell_type": "markdown",
   "metadata": {},
   "source": [
    "#### Listado de colecciones y recuperación de datos almacenados\n",
    "\n",
    "Este bloque de código se enfoca en listar las colecciones existentes en la base de datos vectorial, obtener una colección específica por su nombre y recuperar todos los datos almacenados en ella. Se detallan los pasos a continuación:\n"
   ]
  },
  {
   "cell_type": "code",
   "execution_count": 10,
   "metadata": {},
   "outputs": [
    {
     "name": "stdout",
     "output_type": "stream",
     "text": [
      "Nombre de la colección: prueba_collection\n"
     ]
    }
   ],
   "source": [
    "# Listar las colecciones existentes\n",
    "collections = client.list_collections()\n",
    "\n",
    "# Imprimir las colecciones\n",
    "for collection in collections:\n",
    "    print(\"Nombre de la colección:\", collection.name)"
   ]
  },
  {
   "cell_type": "code",
   "execution_count": 11,
   "metadata": {},
   "outputs": [
    {
     "name": "stdout",
     "output_type": "stream",
     "text": [
      "IDs: ['LG1', 'LG2', 'LG3', 'JC1', 'JC2', 'JC3']\n",
      "Embeddings: None\n",
      "Metadatos: [{'Candidato': 'Luisa Gonzales', 'Descripción': 'entrevista relevante entender propuesta visión político luisa gonzález contexto crisis económico social seguridad ecuador', 'Temas': 'justicia social propuesta corrupción'}, {'Candidato': 'Luisa Gonzales', 'Descripción': 'entrevista ofrecer visión claro prioridad estrategia luisa gonzález enfrentar desafío económico social político ecuador', 'Temas': 'crisis eléctrico relación internacional acción'}, {'Candidato': 'Luisa Gonzales', 'Descripción': 'gonzález defender independencia capacidad liderar criticar justicia ecuatoriano enfatizar necesidad unidad liderazgo superar crisis país además responder pregunta relación rafael correa corrupción visión política exterior', 'Temas': 'venezuela rafael correo persecución'}, {'Candidato': 'Juan Cueva', 'Descripción': 'abordo tema clave relacionado protección gestión derecho propiedad intelectual explicar concepto fundamental propiedad intelectual importancia organización emprendedor desafío enfrentar campo mundo globalizado digitalizado', 'Temas': 'propiedad intelectual panorama ecuatoriano'}, {'Candidato': 'Juan Cueva', 'Descripción': 'entrevista juan iván cueva candidato presidencial movimiento amigo compartir visión propuesta ecuador explicar motivación postular él presidencia experiencia sector público privado enfoque unidad bienestar país allá ideología además detallo plan inicial gobierno reducción iva fortalecimiento seguridad enfatizar compromiso transparencia lucha corrupción', 'Temas': 'proyecto político experiencia corrupción'}, {'Candidato': 'Juan Cueva', 'Descripción': 'entrevista juan iván cueva compartir experiencia conocimiento protección escalabilidad innovación tecnológico abordo tema clave importancia propiedad intelectual colaboración universidad empresa sector público desafío enfrentar emprendedor ámbito además ofrecer consejo práctico transferencia tecnología destacar necesidad enfoque sostenible innovación', 'Temas': 'colaboración sector desafío protección caso éxito sostenibilidad'}]\n"
     ]
    }
   ],
   "source": [
    "# Obtener la colección por nombre\n",
    "collection = client.get_collection(\"prueba_collection\")\n",
    "\n",
    "# Recuperar todos los datos (embeddings, IDs y metadatos)\n",
    "datos = collection.get()\n",
    "\n",
    "# Imprimir el contenido\n",
    "print(\"IDs:\", datos[\"ids\"])\n",
    "print(\"Embeddings:\", datos[\"embeddings\"])\n",
    "print(\"Metadatos:\", datos[\"metadatas\"])"
   ]
  },
  {
   "cell_type": "markdown",
   "metadata": {},
   "source": [
    "### 3.6. Configuración de la API de OpenAI y preparación del contexto para consultas a GPT\n",
    "\n",
    "Este bloque de código configura el cliente para interactuar con la API de OpenAI y prepara el contexto basado en los documentos más relevantes recuperados de la base de datos vectorial. A continuación, se detalla cada paso:\n"
   ]
  },
  {
   "cell_type": "code",
   "execution_count": null,
   "metadata": {},
   "outputs": [],
   "source": [
    "# Configuración de OpenAI API\n",
    "cliente = OpenAI(\n",
    "    api_key='XXXXXX-XXXXXX-XXXXXX'\n",
    ")"
   ]
  },
  {
   "cell_type": "code",
   "execution_count": 16,
   "metadata": {},
   "outputs": [],
   "source": [
    "# Preparar el contexto para el modelo GPT\n",
    "context = \"\\n\".join(results['documents'][0])  # Combinar los documentos más relevantes"
   ]
  },
  {
   "cell_type": "markdown",
   "metadata": {},
   "source": [
    "### 3.7. Uso del modelo GPT para generar respuestas basadas en el contexto recuperado\n",
    "\n",
    "Este bloque de código utiliza la **API de OpenAI** para generar una respuesta basada en el contexto recuperado de la base de datos vectorial y la consulta del usuario.\n"
   ]
  },
  {
   "cell_type": "code",
   "execution_count": 20,
   "metadata": {},
   "outputs": [],
   "source": [
    "# Usar GPT para generar una respuesta basada en el contexto recuperado\n",
    "response = cliente.chat.completions.create(\n",
    "    model=\"gpt-4o-mini\",  # Usar el modelo especificado\n",
    "    messages=[\n",
    "        {\"role\": \"system\", \"content\": \"Eres un experto en recuperación de información que proporciona respuestas breves y concisas.\"},\n",
    "        {\"role\": \"user\", \"content\": f\"Usando el siguiente contexto, responde de manera breve y concisa a la pregunta: '{query}'\\n\\nContexto:\\n{context}\\n\\nRespuesta:\"}\n",
    "    ]\n",
    ")"
   ]
  },
  {
   "cell_type": "code",
   "execution_count": 21,
   "metadata": {},
   "outputs": [
    {
     "data": {
      "text/plain": [
       "ChatCompletionMessage(content='Luisa González enfrentará la crisis eléctrica rehabilitando y operando al máximo las termoeléctricas existentes, desarrollando proyectos eólicos y fotovoltaicos, y eliminando gastos innecesarios asociados a la compra de energía. Su enfoque incluye fortalecer la infraestructura energética y garantizar una gestión eficiente.', refusal=None, role='assistant', audio=None, function_call=None, tool_calls=None)"
      ]
     },
     "execution_count": 21,
     "metadata": {},
     "output_type": "execute_result"
    }
   ],
   "source": [
    "response.choices[0].message"
   ]
  }
 ],
 "metadata": {
  "kernelspec": {
   "display_name": "Python 3",
   "language": "python",
   "name": "python3"
  },
  "language_info": {
   "codemirror_mode": {
    "name": "ipython",
    "version": 3
   },
   "file_extension": ".py",
   "mimetype": "text/x-python",
   "name": "python",
   "nbconvert_exporter": "python",
   "pygments_lexer": "ipython3",
   "version": "3.8.10"
  }
 },
 "nbformat": 4,
 "nbformat_minor": 2
}
