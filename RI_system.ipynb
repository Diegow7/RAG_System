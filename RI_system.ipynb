{
 "cells": [
  {
   "cell_type": "code",
   "execution_count": 1,
   "metadata": {},
   "outputs": [
    {
     "name": "stderr",
     "output_type": "stream",
     "text": [
      "c:\\Users\\diego\\AppData\\Local\\Programs\\Python\\Python38\\lib\\site-packages\\sentence_transformers\\cross_encoder\\CrossEncoder.py:13: TqdmWarning: IProgress not found. Please update jupyter and ipywidgets. See https://ipywidgets.readthedocs.io/en/stable/user_install.html\n",
      "  from tqdm.autonotebook import tqdm, trange\n"
     ]
    }
   ],
   "source": [
    "import pandas as pd\n",
    "from sentence_transformers import SentenceTransformer\n",
    "import chromadb\n",
    "from chromadb.config import Settings"
   ]
  },
  {
   "cell_type": "code",
   "execution_count": 2,
   "metadata": {},
   "outputs": [],
   "source": [
    "# Cargar el modelo de embeddings\n",
    "model = SentenceTransformer('all-MiniLM-L6-v2')\n",
    "\n",
    "# Leer el archivo CSV\n",
    "file_path = \"./Data/Entrevista_LuisaGonzales_JuanCueva.csv\"\n",
    "data = pd.read_csv(file_path, sep=\",\")  # Asegúrate de usar el separador adecuado (tabulación en este caso)"
   ]
  },
  {
   "cell_type": "code",
   "execution_count": 3,
   "metadata": {},
   "outputs": [
    {
     "data": {
      "text/html": [
       "<div>\n",
       "<style scoped>\n",
       "    .dataframe tbody tr th:only-of-type {\n",
       "        vertical-align: middle;\n",
       "    }\n",
       "\n",
       "    .dataframe tbody tr th {\n",
       "        vertical-align: top;\n",
       "    }\n",
       "\n",
       "    .dataframe thead th {\n",
       "        text-align: right;\n",
       "    }\n",
       "</style>\n",
       "<table border=\"1\" class=\"dataframe\">\n",
       "  <thead>\n",
       "    <tr style=\"text-align: right;\">\n",
       "      <th></th>\n",
       "      <th>ID</th>\n",
       "      <th>Candidato</th>\n",
       "      <th>Temas</th>\n",
       "      <th>Descripción</th>\n",
       "      <th>Entrevista</th>\n",
       "    </tr>\n",
       "  </thead>\n",
       "  <tbody>\n",
       "    <tr>\n",
       "      <th>0</th>\n",
       "      <td>LG1</td>\n",
       "      <td>Luisa Gonzales</td>\n",
       "      <td>justicia social propuesta corrupción</td>\n",
       "      <td>entrevista relevante entender propuesta visión...</td>\n",
       "      <td>buen día lenin saludo escuchar momento revoluc...</td>\n",
       "    </tr>\n",
       "    <tr>\n",
       "      <th>1</th>\n",
       "      <td>LG2</td>\n",
       "      <td>Luisa Gonzales</td>\n",
       "      <td>crisis eléctrico relación internacional acción</td>\n",
       "      <td>entrevista ofrecer visión claro prioridad estr...</td>\n",
       "      <td>mucho gracia buen día ecuatoriano mirar moment...</td>\n",
       "    </tr>\n",
       "    <tr>\n",
       "      <th>2</th>\n",
       "      <td>LG3</td>\n",
       "      <td>Luisa Gonzales</td>\n",
       "      <td>venezuela rafael correo persecución</td>\n",
       "      <td>gonzález defender independencia capacidad lide...</td>\n",
       "      <td>querido fernando necesitar consultar ninguno a...</td>\n",
       "    </tr>\n",
       "    <tr>\n",
       "      <th>3</th>\n",
       "      <td>JC1</td>\n",
       "      <td>Juan Cueva</td>\n",
       "      <td>propiedad intelectual panorama ecuatoriano</td>\n",
       "      <td>abordo tema clave relacionado protección gesti...</td>\n",
       "      <td>propiedad intelectual derecho cualquiera autor...</td>\n",
       "    </tr>\n",
       "    <tr>\n",
       "      <th>4</th>\n",
       "      <td>JC2</td>\n",
       "      <td>Juan Cueva</td>\n",
       "      <td>proyecto político experiencia corrupción</td>\n",
       "      <td>entrevista juan iván cueva candidato presidenc...</td>\n",
       "      <td>mucho gracia lenin invitación honor aquí prese...</td>\n",
       "    </tr>\n",
       "    <tr>\n",
       "      <th>5</th>\n",
       "      <td>JC3</td>\n",
       "      <td>Juan Cueva</td>\n",
       "      <td>colaboración sector desafío protección caso éx...</td>\n",
       "      <td>entrevista juan iván cueva compartir experienc...</td>\n",
       "      <td>estrategia considerar efectivo ver protección ...</td>\n",
       "    </tr>\n",
       "  </tbody>\n",
       "</table>\n",
       "</div>"
      ],
      "text/plain": [
       "    ID       Candidato                                              Temas  \\\n",
       "0  LG1  Luisa Gonzales               justicia social propuesta corrupción   \n",
       "1  LG2  Luisa Gonzales     crisis eléctrico relación internacional acción   \n",
       "2  LG3  Luisa Gonzales                venezuela rafael correo persecución   \n",
       "3  JC1      Juan Cueva         propiedad intelectual panorama ecuatoriano   \n",
       "4  JC2      Juan Cueva           proyecto político experiencia corrupción   \n",
       "5  JC3      Juan Cueva  colaboración sector desafío protección caso éx...   \n",
       "\n",
       "                                         Descripción  \\\n",
       "0  entrevista relevante entender propuesta visión...   \n",
       "1  entrevista ofrecer visión claro prioridad estr...   \n",
       "2  gonzález defender independencia capacidad lide...   \n",
       "3  abordo tema clave relacionado protección gesti...   \n",
       "4  entrevista juan iván cueva candidato presidenc...   \n",
       "5  entrevista juan iván cueva compartir experienc...   \n",
       "\n",
       "                                          Entrevista  \n",
       "0  buen día lenin saludo escuchar momento revoluc...  \n",
       "1  mucho gracia buen día ecuatoriano mirar moment...  \n",
       "2  querido fernando necesitar consultar ninguno a...  \n",
       "3  propiedad intelectual derecho cualquiera autor...  \n",
       "4  mucho gracia lenin invitación honor aquí prese...  \n",
       "5  estrategia considerar efectivo ver protección ...  "
      ]
     },
     "execution_count": 3,
     "metadata": {},
     "output_type": "execute_result"
    }
   ],
   "source": [
    "data"
   ]
  },
  {
   "cell_type": "code",
   "execution_count": 4,
   "metadata": {},
   "outputs": [],
   "source": [
    "# Extraer las columnas de interés\n",
    "documents = data['Entrevista'].tolist()  # El texto del documento\n",
    "ids = data['ID'].tolist()  # Identificadores únicos\n",
    "metadatas = data[['Candidato', 'Temas', 'Descripción']].to_dict(orient='records')  # Metadatos"
   ]
  },
  {
   "cell_type": "code",
   "execution_count": 5,
   "metadata": {},
   "outputs": [],
   "source": [
    "# Generar los embeddings para los documentos\n",
    "embeddings = model.encode(documents).tolist()"
   ]
  },
  {
   "cell_type": "code",
   "execution_count": 6,
   "metadata": {},
   "outputs": [],
   "source": [
    "# Inicializar la base de datos vectorial con persistencia\n",
    "client = chromadb.PersistentClient(\n",
    "    path=\"./chroma_db\"  # Carpeta donde se guardarán los datos\n",
    ")"
   ]
  },
  {
   "cell_type": "code",
   "execution_count": 7,
   "metadata": {},
   "outputs": [
    {
     "name": "stderr",
     "output_type": "stream",
     "text": [
      "Insert of existing embedding ID: LG1\n",
      "Insert of existing embedding ID: LG2\n",
      "Insert of existing embedding ID: LG3\n",
      "Insert of existing embedding ID: JC1\n",
      "Insert of existing embedding ID: JC2\n",
      "Insert of existing embedding ID: JC3\n",
      "Add of existing embedding ID: LG1\n",
      "Add of existing embedding ID: LG2\n",
      "Add of existing embedding ID: LG3\n",
      "Add of existing embedding ID: JC1\n",
      "Add of existing embedding ID: JC2\n",
      "Add of existing embedding ID: JC3\n"
     ]
    },
    {
     "name": "stdout",
     "output_type": "stream",
     "text": [
      "Documentos agregados exitosamente a la colección.\n"
     ]
    }
   ],
   "source": [
    "# Crear o cargar la colección\n",
    "collection = client.get_or_create_collection(\"prueba_collection\")\n",
    "\n",
    "# Agregar los documentos, metadatos, IDs y embeddings a la colección\n",
    "collection.add(\n",
    "    documents=documents,\n",
    "    metadatas=metadatas,\n",
    "    ids=ids,\n",
    "    embeddings=embeddings\n",
    ")\n",
    "\n",
    "print(\"Documentos agregados exitosamente a la colección.\")"
   ]
  },
  {
   "cell_type": "code",
   "execution_count": 8,
   "metadata": {},
   "outputs": [
    {
     "name": "stdout",
     "output_type": "stream",
     "text": [
      "Resultados de la consulta:\n",
      "['querido fernando necesitar consultar ninguno asesor manejar comunicación mujer capaz inteligente ir ver desafío mostrar cuántos país mundo violar derechos humanos mantener relación comercial unidos ojalá poder dialogar país violar derechos humanos comerciar unidos solo mencionar venezuelo habl palabra aislado cumbre iberoamericano nación 2023 ecuador anfitrión ninguno gobierno asistir aislado igual relación roto méxico socio comercial clave ecuador cerrar 2024 crecimiento 22 pobreza extremo pobreza afectar casi mitad población jugar vida elección debate permitir exponer plan trabajo atacar rafael correo problema país llamar unidad dejar confrontación odio si daniel novoa aceptar invitar debate confrontar mentira verdad demostrar plan estructurado ecuador 16 candidato 15 mencionar correa propuesta claro rafael correa líder histórico revolución ciudadanar hombre inocente presidenta partido dirijo campaña gobierno ecuador gobernar justicia ecuatoriano apenas 13 aprobación violar derecho operar bajo vicio derecho ecuador vivir dictadura ecuador decrecir 22 pobreza violencia corte eléctrico falta inversión extranjero necesitar gobernar liderazgo generar empleo mejorar seguridad fortalecer economía glós uso avión presidencial cumbre iberoamericano panamá participar barack obamar ridículo parte persecución político ecuador si mal aquí dar cara disgusto hablar encantado volver conversar', 'mucho gracia buen día ecuatoriano mirar momento creer aquí tratar ganar perder sino pueblo ecuatoriano conocer propuesta candidato propuesta deber ser serio contrastabl real realizabl cambiar mentira verdad bloque debate confrontación ataque fundamento lugar enfocar él propuesta presentar parte plan proteger generar impulsar disponible red social totalmente acuerdo ecuador perder presentar oferta sustento poder prometer tren bala siquiera completar metro quito campaña anterior mentira ganar luego cumplir promesa bajar precio combustible impuesto último año solo crear empleo sino perder 250000 puesto trabajo ciudadanía deber reflexionar diferenciar promesa vacío propuesta realizabl gustar debatir directamente daniel novoa ubicar bloque distinto retar debate directo primero vuelta si cne permitir recibir amenaza campaña anterior momento detener persona armado querer atentar vida ahora continuar amenaza ministerio defensa tomar medida confío fuerza armado aunque creer deber ser depurar invito ciudadanía revisar plan generar planteo rehabilitar capacidad instalado mucho termoeléctrica operar máximo capacidad dar mantenimiento trabajarer empresa privado desarrollar nuevo proyecto eólico termoeléctrico fotovoltaico además completar proyecto cardenillo 600 mw fortalecer sistema necesitar comprar energía si seguir plan maestro electricidad barcaza energético significar gasto innecesario deber ser eliminar exjuez saquicela liberar rasquiña sembrar terror ecuador ahora mismo juez atacar rafael correa hombre inocente sentenciar injustamente interpol rechazar tres vez difusión rojo demostrar sustento condena importante ciudadanía conocer contradicción jamás deber reflexionar quién seguro sistema justicia actual existir derecho ir depurar juez fiscal corrupto favorecer delincuente fortalecer uafe requerir nuevo ley sino devolver él presupuesto contratar personal adecuado hacer seguimiento report garantizar justicia actuar siempre respetar voluntad pueblo hacer consulta yasuní gastar dinero consulta repetitiva requerir liderazgo acción pueblo hermano cuanto asumir presidencia seguro claudia sheinbaum asistir posesión restablecerer relación comercial si necesario conforme derecho internacional haré ir recomponer relación necesario generar empleo salud educación necesitar inversión estabilidad sacar 7 millón ecuatoriano pobreza esperar política migratorio humano crisis migratorio ecuatoriano alarmante gracias tú', 'mucho gracia lenin invitación honor aquí presente ciudadano realmente indignado cansado situación actual país momento ciudadano dar paso adelante quedar margen preparar todo vida ser presidente trabajar parte público privado asesorar pepe mujico recorrer ecuador conocer necesidad ciudadanía demanda joven político gente nuevo vínculo política tradicional necesitar haber pasar partido político década preparado sino contar capacidad preparación dirigir país recorrer ecuador loja manabí quedándomar lugar olvidado político socialdemócrata creer balanceado reuní partido encontrar amigo valor objetivo común alquilé partido liderar proyecto político defender ecuador corrupto inepto coalición persona partido cristín reyes provenir centroderecha yaku pérez centroizquierda confiar proyecto buscar bienestar ecuador allá etiqueta ideológico ninguno relación especular revisar historia partido figurar nombre fundación registro cne conocer hacer seis siete mes empezar proyecto político sociedad demandar líder preparado cristín experiencia compromiso defensa mujer justicia social 2013 2015 trabajer despliegue televisión digital terrestre fibra óptico modernización servicio estatal uruguay primero decreto enfocado seguridad desarrollo bajar iva 15 12 basándomir curva laffer indicar impuesto menor poder aumentar recaudación fortaleceré seguridad plan concreto presentar asesor seguridad josé luis chérr trabajar nayib bukele donald trumpir miembro gobierno pasar prueba confianza polígrafo análisis financiero ser designar aventura poder sector privado decidir dar paso adelante ecuador permitiré país seguir secuestrado violencia falta empleo corrupción empresa producir cerveza artesanal loja prioridad ecuador gracias tú espacio']\n"
     ]
    }
   ],
   "source": [
    "# Realizar una consulta\n",
    "query = \"corrupción\"  # Tu consulta en texto\n",
    "query_embedding = model.encode([query]).tolist()  # Generar el embedding de la consulta\n",
    "\n",
    "# Consultar los documentos más similares\n",
    "results = collection.query(\n",
    "    query_embeddings=query_embedding,\n",
    "    n_results=3  # Devuelve los 3 documentos más similares\n",
    ")\n",
    "\n",
    "# Imprimir los resultados\n",
    "print(\"Resultados de la consulta:\")\n",
    "for result in results['documents']:\n",
    "    print(result)"
   ]
  },
  {
   "cell_type": "code",
   "execution_count": 9,
   "metadata": {},
   "outputs": [
    {
     "name": "stdout",
     "output_type": "stream",
     "text": [
      "Nombre de la colección: prueba_collection\n"
     ]
    }
   ],
   "source": [
    "# Listar las colecciones existentes\n",
    "collections = client.list_collections()\n",
    "\n",
    "# Imprimir las colecciones\n",
    "for collection in collections:\n",
    "    print(\"Nombre de la colección:\", collection.name)"
   ]
  },
  {
   "cell_type": "code",
   "execution_count": 10,
   "metadata": {},
   "outputs": [
    {
     "name": "stdout",
     "output_type": "stream",
     "text": [
      "IDs: ['LG1', 'LG2', 'LG3', 'JC1', 'JC2', 'JC3']\n",
      "Embeddings: None\n",
      "Metadatos: [{'Candidato': 'Luisa Gonzales', 'Descripción': 'entrevista relevante entender propuesta visión político luisa gonzález contexto crisis económico social seguridad ecuador', 'Temas': 'justicia social propuesta corrupción'}, {'Candidato': 'Luisa Gonzales', 'Descripción': 'entrevista ofrecer visión claro prioridad estrategia luisa gonzález enfrentar desafío económico social político ecuador', 'Temas': 'crisis eléctrico relación internacional acción'}, {'Candidato': 'Luisa Gonzales', 'Descripción': 'gonzález defender independencia capacidad liderar criticar justicia ecuatoriano enfatizar necesidad unidad liderazgo superar crisis país además responder pregunta relación rafael correa corrupción visión política exterior', 'Temas': 'venezuela rafael correo persecución'}, {'Candidato': 'Juan Cueva', 'Descripción': 'abordo tema clave relacionado protección gestión derecho propiedad intelectual explicar concepto fundamental propiedad intelectual importancia organización emprendedor desafío enfrentar campo mundo globalizado digitalizado', 'Temas': 'propiedad intelectual panorama ecuatoriano'}, {'Candidato': 'Juan Cueva', 'Descripción': 'entrevista juan iván cueva candidato presidencial movimiento amigo compartir visión propuesta ecuador explicar motivación postular él presidencia experiencia sector público privado enfoque unidad bienestar país allá ideología además detallo plan inicial gobierno reducción iva fortalecimiento seguridad enfatizar compromiso transparencia lucha corrupción', 'Temas': 'proyecto político experiencia corrupción'}, {'Candidato': 'Juan Cueva', 'Descripción': 'entrevista juan iván cueva compartir experiencia conocimiento protección escalabilidad innovación tecnológico abordo tema clave importancia propiedad intelectual colaboración universidad empresa sector público desafío enfrentar emprendedor ámbito además ofrecer consejo práctico transferencia tecnología destacar necesidad enfoque sostenible innovación', 'Temas': 'colaboración sector desafío protección caso éxito sostenibilidad'}]\n"
     ]
    }
   ],
   "source": [
    "# Obtener la colección por nombre\n",
    "collection = client.get_collection(\"prueba_collection\")\n",
    "\n",
    "# Recuperar todos los datos (embeddings, IDs y metadatos)\n",
    "datos = collection.get()\n",
    "\n",
    "# Imprimir el contenido\n",
    "print(\"IDs:\", datos[\"ids\"])\n",
    "print(\"Embeddings:\", datos[\"embeddings\"])\n",
    "print(\"Metadatos:\", datos[\"metadatas\"])\n"
   ]
  }
 ],
 "metadata": {
  "kernelspec": {
   "display_name": "Python 3",
   "language": "python",
   "name": "python3"
  },
  "language_info": {
   "codemirror_mode": {
    "name": "ipython",
    "version": 3
   },
   "file_extension": ".py",
   "mimetype": "text/x-python",
   "name": "python",
   "nbconvert_exporter": "python",
   "pygments_lexer": "ipython3",
   "version": "3.8.10"
  }
 },
 "nbformat": 4,
 "nbformat_minor": 2
}
